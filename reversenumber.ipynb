{
 "cells": [
  {
   "cell_type": "code",
   "execution_count": 4,
   "id": "a6dd2c88",
   "metadata": {},
   "outputs": [
    {
     "name": "stdout",
     "output_type": "stream",
     "text": [
      "Enter a number to be reversed : 12345\n",
      "12345 Reverse is 54321\n"
     ]
    }
   ],
   "source": [
    "# Reverse a number\n",
    "\n",
    "num = int(input(\"Enter a number to be reversed : \"))\n",
    "temp=num\n",
    "rev=0\n",
    "\n",
    "while(num>0):\n",
    "    rem = num%10\n",
    "    rev = (rev*10) + rem \n",
    "    num = num//10\n",
    "    \n",
    "print(\"{} Reverse is {}\".format(temp,rev))"
   ]
  }
 ],
 "metadata": {
  "kernelspec": {
   "display_name": "Python 3 (ipykernel)",
   "language": "python",
   "name": "python3"
  },
  "language_info": {
   "codemirror_mode": {
    "name": "ipython",
    "version": 3
   },
   "file_extension": ".py",
   "mimetype": "text/x-python",
   "name": "python",
   "nbconvert_exporter": "python",
   "pygments_lexer": "ipython3",
   "version": "3.11.3"
  }
 },
 "nbformat": 4,
 "nbformat_minor": 5
}
